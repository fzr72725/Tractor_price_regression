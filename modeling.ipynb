{
 "cells": [
  {
   "cell_type": "code",
   "execution_count": 10,
   "metadata": {},
   "outputs": [],
   "source": [
    "import matplotlib.pyplot as plt\n",
    "import pandas as pd\n",
    "import numpy as np\n",
    "#import statsmodels.api as sm\n",
    "#import statsmodels.stats.api as sms\n",
    "#import statsmodels.formula.api as smf\n",
    "from sklearn.linear_model import LinearRegression, Lasso\n",
    "#from sklearn.model_selection import train_test_split\n",
    "from sklearn.cross_validation import train_test_split\n",
    "from sklearn.preprocessing import scale\n",
    "#from sklearn.model_selection import cross_val_score\n",
    "from sklearn.cross_validation import cross_val_score\n",
    "#from statsmodels.stats.outliers_influence import variance_inflation_factor\n",
    "import sklearn.metrics\n",
    "\n",
    "%matplotlib inline"
   ]
  },
  {
   "cell_type": "code",
   "execution_count": 8,
   "metadata": {
    "collapsed": true
   },
   "outputs": [],
   "source": [
    "import sys\n",
    "sys.path.insert(0, './src')\n",
    "\n",
    "import data_clean as dclean"
   ]
  },
  {
   "cell_type": "code",
   "execution_count": 44,
   "metadata": {},
   "outputs": [],
   "source": [
    "df_train_all = pd.read_csv('data/Train.csv')"
   ]
  },
  {
   "cell_type": "code",
   "execution_count": 45,
   "metadata": {
    "collapsed": true
   },
   "outputs": [],
   "source": [
    "df_test_all = pd.read_csv('data/Test.csv')"
   ]
  },
  {
   "cell_type": "code",
   "execution_count": 46,
   "metadata": {
    "collapsed": true
   },
   "outputs": [],
   "source": [
    "df_train_all['saleyear'] =  pd.to_datetime(df_train_all['saledate']).dt.year.values"
   ]
  },
  {
   "cell_type": "markdown",
   "metadata": {},
   "source": [
    "## General Data Cleaning"
   ]
  },
  {
   "cell_type": "markdown",
   "metadata": {},
   "source": [
    "**Check Null values**"
   ]
  },
  {
   "cell_type": "code",
   "execution_count": 12,
   "metadata": {},
   "outputs": [
    {
     "name": "stdout",
     "output_type": "stream",
     "text": [
      "Dataframe total row count:  401125\n",
      "auctioneerID  has  20136 null/NAN values\n",
      "MachineHoursCurrentMeter  has  258360 null/NAN values\n",
      "UsageBand  has  331486 null/NAN values\n",
      "fiSecondaryDesc  has  137191 null/NAN values\n",
      "fiModelSeries  has  344217 null/NAN values\n",
      "fiModelDescriptor  has  329206 null/NAN values\n",
      "ProductSize  has  210775 null/NAN values\n",
      "Drive_System  has  296764 null/NAN values\n",
      "Enclosure  has  325 null/NAN values\n",
      "Forks  has  209048 null/NAN values\n",
      "Pad_Type  has  321991 null/NAN values\n",
      "Ride_Control  has  252519 null/NAN values\n",
      "Stick  has  321991 null/NAN values\n",
      "Transmission  has  217895 null/NAN values\n",
      "Turbocharged  has  321991 null/NAN values\n",
      "Blade_Extension  has  375906 null/NAN values\n",
      "Blade_Width  has  375906 null/NAN values\n",
      "Enclosure_Type  has  375906 null/NAN values\n",
      "Engine_Horsepower  has  375906 null/NAN values\n",
      "Hydraulics  has  80555 null/NAN values\n",
      "Pushblock  has  375906 null/NAN values\n",
      "Ripper  has  296988 null/NAN values\n",
      "Scarifier  has  375895 null/NAN values\n",
      "Tip_Control  has  375906 null/NAN values\n",
      "Tire_Size  has  306407 null/NAN values\n",
      "Coupler  has  187173 null/NAN values\n",
      "Coupler_System  has  357667 null/NAN values\n",
      "Grouser_Tracks  has  357763 null/NAN values\n",
      "Hydraulics_Flow  has  357763 null/NAN values\n",
      "Track_Type  has  301972 null/NAN values\n",
      "Undercarriage_Pad_Width  has  301253 null/NAN values\n",
      "Stick_Length  has  301907 null/NAN values\n",
      "Thumb  has  301837 null/NAN values\n",
      "Pattern_Changer  has  301907 null/NAN values\n",
      "Grouser_Type  has  301972 null/NAN values\n",
      "Backhoe_Mounting  has  322453 null/NAN values\n",
      "Blade_Type  has  321292 null/NAN values\n",
      "Travel_Controls  has  321291 null/NAN values\n",
      "Differential_Type  has  331714 null/NAN values\n",
      "Steering_Controls  has  331756 null/NAN values\n",
      "There are 40 columns with nan/null values\n"
     ]
    }
   ],
   "source": [
    "dclean.check_nan(df_train_all, df_train_all.columns)"
   ]
  },
  {
   "cell_type": "code",
   "execution_count": 14,
   "metadata": {
    "collapsed": true
   },
   "outputs": [],
   "source": [
    "# Select all numerical features into a new dataframe\n",
    "numerics = ['int16', 'int32', 'int64', 'float16', 'float32', 'float64']\n",
    "df_numeric = df_train_all.select_dtypes(include=numerics)\n",
    "## Or\n",
    "# df_numeric = df.select_dtypes(exclude=[object])"
   ]
  },
  {
   "cell_type": "code",
   "execution_count": 17,
   "metadata": {},
   "outputs": [
    {
     "data": {
      "text/plain": [
       "Index([u'SalesID', u'SalePrice', u'MachineID', u'ModelID', u'datasource',\n",
       "       u'auctioneerID', u'YearMade', u'MachineHoursCurrentMeter'],\n",
       "      dtype='object')"
      ]
     },
     "execution_count": 17,
     "metadata": {},
     "output_type": "execute_result"
    }
   ],
   "source": [
    "df_numeric.columns"
   ]
  },
  {
   "cell_type": "markdown",
   "metadata": {},
   "source": [
    "**Check 0 values in numeric columns**"
   ]
  },
  {
   "cell_type": "code",
   "execution_count": 28,
   "metadata": {},
   "outputs": [
    {
     "name": "stdout",
     "output_type": "stream",
     "text": [
      "Dataframe total row count:  401125\n",
      "Column MachineID : 2 rows are 0\n",
      "Column auctioneerID : 407 rows are 0\n",
      "Column MachineHoursCurrentMeter : 73126 rows are 0\n"
     ]
    }
   ],
   "source": [
    "dclean.check_zero(df_numeric, df_numeric.columns)"
   ]
  },
  {
   "cell_type": "markdown",
   "metadata": {},
   "source": [
    "**Drop columns that has large portion of NaN values in train and test sets**"
   ]
  },
  {
   "cell_type": "code",
   "execution_count": 47,
   "metadata": {},
   "outputs": [],
   "source": [
    "df_train_orig, drop_cols = dclean.drop_NaN_cols(df_train_all, 0.7)\n",
    "df_test_orig = df_test_all.drop(drop_cols, axis=1)"
   ]
  },
  {
   "cell_type": "code",
   "execution_count": 48,
   "metadata": {},
   "outputs": [
    {
     "name": "stdout",
     "output_type": "stream",
     "text": [
      "UsageBand, fiModelSeries, fiModelDescriptor, Drive_System, Pad_Type, Stick, Turbocharged, Blade_Extension, Blade_Width, Enclosure_Type, Engine_Horsepower, Pushblock, Ripper, Scarifier, Tip_Control, Tire_Size, Coupler_System, Grouser_Tracks, Hydraulics_Flow, Track_Type, Undercarriage_Pad_Width, Stick_Length, Thumb, Pattern_Changer, Grouser_Type, Backhoe_Mounting, Blade_Type, Travel_Controls, Differential_Type, Steering_Controls\n"
     ]
    }
   ],
   "source": [
    "print ', '.join(drop_cols)"
   ]
  },
  {
   "cell_type": "code",
   "execution_count": 49,
   "metadata": {},
   "outputs": [
    {
     "data": {
      "text/plain": [
       "Index([u'SalesID', u'SalePrice', u'MachineID', u'ModelID', u'datasource',\n",
       "       u'auctioneerID', u'YearMade', u'MachineHoursCurrentMeter', u'saledate',\n",
       "       u'fiModelDesc', u'fiBaseModel', u'fiSecondaryDesc', u'ProductSize',\n",
       "       u'fiProductClassDesc', u'state', u'ProductGroup', u'ProductGroupDesc',\n",
       "       u'Enclosure', u'Forks', u'Ride_Control', u'Transmission', u'Hydraulics',\n",
       "       u'Coupler', u'saleyear'],\n",
       "      dtype='object')"
      ]
     },
     "execution_count": 49,
     "metadata": {},
     "output_type": "execute_result"
    }
   ],
   "source": [
    "df_train_orig.columns"
   ]
  },
  {
   "cell_type": "markdown",
   "metadata": {},
   "source": [
    "**After doing some research, pick first set of features from columns above**"
   ]
  },
  {
   "cell_type": "code",
   "execution_count": 123,
   "metadata": {
    "collapsed": true
   },
   "outputs": [],
   "source": [
    "cols = ['YearMade', 'MachineHoursCurrentMeter', 'saleyear', 'SalePrice', 'ModelID']\n",
    "df_train_0 = df_train_orig[cols]"
   ]
  },
  {
   "cell_type": "code",
   "execution_count": 124,
   "metadata": {},
   "outputs": [],
   "source": [
    "#df_train_0.head()"
   ]
  },
  {
   "cell_type": "code",
   "execution_count": 125,
   "metadata": {},
   "outputs": [
    {
     "data": {
      "image/png": "[encoded data removed]",
      "text/plain": [
       "<matplotlib.figure.Figure at 0x1a18df1850>"
      ]
     },
     "metadata": {},
     "output_type": "display_data"
    }
   ],
   "source": [
    "# Plot features\n",
    "fig, ax = plt.subplots()\n",
    "ax.hist(df_train_0['YearMade'], bins=100)\n",
    "fig.set_size_inches(18.5, 10.5, forward=True)\n",
    "fig.show()"
   ]
  },
  {
   "cell_type": "markdown",
   "metadata": {},
   "source": [
    "**Plot shows invalid values in YearMade, removing them**"
   ]
  },
  {
   "cell_type": "code",
   "execution_count": 126,
   "metadata": {},
   "outputs": [
    {
     "name": "stderr",
     "output_type": "stream",
     "text": [
      "/Users/ziru/anaconda/lib/python2.7/site-packages/ipykernel_launcher.py:1: SettingWithCopyWarning: \n",
      "A value is trying to be set on a copy of a slice from a DataFrame\n",
      "\n",
      "See the caveats in the documentation: http://pandas.pydata.org/pandas-docs/stable/indexing.html#indexing-view-versus-copy\n",
      "  \"\"\"Entry point for launching an IPython kernel.\n"
     ]
    }
   ],
   "source": [
    "df_train_0.drop(df_train_0[df_train_0['YearMade']<1960].index, axis=0, inplace=True)"
   ]
  },
  {
   "cell_type": "code",
   "execution_count": 127,
   "metadata": {},
   "outputs": [
    {
     "data": {
      "image/png": "[encoded data removed]",
      "text/plain": [
       "<matplotlib.figure.Figure at 0x1a2371fed0>"
      ]
     },
     "metadata": {},
     "output_type": "display_data"
    }
   ],
   "source": [
    "fig, ax = plt.subplots()\n",
    "ax.hist(df_train_0['YearMade'], bins=100)\n",
    "fig.set_size_inches(18.5, 10.5, forward=True)\n",
    "fig.show()"
   ]
  },
  {
   "cell_type": "markdown",
   "metadata": {},
   "source": [
    "**From YearMade and saleyear, make MachineAge**"
   ]
  },
  {
   "cell_type": "code",
   "execution_count": 128,
   "metadata": {},
   "outputs": [
    {
     "name": "stderr",
     "output_type": "stream",
     "text": [
      "/Users/ziru/anaconda/lib/python2.7/site-packages/ipykernel_launcher.py:1: SettingWithCopyWarning: \n",
      "A value is trying to be set on a copy of a slice from a DataFrame.\n",
      "Try using .loc[row_indexer,col_indexer] = value instead\n",
      "\n",
      "See the caveats in the documentation: http://pandas.pydata.org/pandas-docs/stable/indexing.html#indexing-view-versus-copy\n",
      "  \"\"\"Entry point for launching an IPython kernel.\n"
     ]
    }
   ],
   "source": [
    "df_train_0['MachineAge'] = df_train_0['saleyear'] - df_train_0['YearMade']"
   ]
  },
  {
   "cell_type": "code",
   "execution_count": 129,
   "metadata": {},
   "outputs": [
    {
     "data": {
      "image/png": "[encoded data removed]",
      "text/plain": [
       "<matplotlib.figure.Figure at 0x1a18f33a10>"
      ]
     },
     "metadata": {},
     "output_type": "display_data"
    }
   ],
   "source": [
    "fig, ax = plt.subplots()\n",
    "ax.hist(df_train_0['MachineAge'], bins=100)\n",
    "fig.set_size_inches(18.5, 10.5, forward=True)\n",
    "fig.show()"
   ]
  },
  {
   "cell_type": "code",
   "execution_count": 130,
   "metadata": {},
   "outputs": [
    {
     "name": "stderr",
     "output_type": "stream",
     "text": [
      "/Users/ziru/anaconda/lib/python2.7/site-packages/ipykernel_launcher.py:1: SettingWithCopyWarning: \n",
      "A value is trying to be set on a copy of a slice from a DataFrame\n",
      "\n",
      "See the caveats in the documentation: http://pandas.pydata.org/pandas-docs/stable/indexing.html#indexing-view-versus-copy\n",
      "  \"\"\"Entry point for launching an IPython kernel.\n"
     ]
    }
   ],
   "source": [
    "df_train_0.drop(df_train_0[df_train_0['MachineAge']<0].index, axis=0, inplace=True)"
   ]
  },
  {
   "cell_type": "code",
   "execution_count": 131,
   "metadata": {},
   "outputs": [
    {
     "data": {
      "image/png": "[encoded data removed]",
      "text/plain": [
       "<matplotlib.figure.Figure at 0x1a1a900e50>"
      ]
     },
     "metadata": {},
     "output_type": "display_data"
    }
   ],
   "source": [
    "fig, ax = plt.subplots()\n",
    "ax.hist(df_train_0['MachineAge'], bins=100)\n",
    "fig.set_size_inches(18.5, 10.5, forward=True)\n",
    "fig.show()"
   ]
  },
  {
   "cell_type": "code",
   "execution_count": 132,
   "metadata": {},
   "outputs": [
    {
     "name": "stdout",
     "output_type": "stream",
     "text": [
      "Dataframe total row count:  362656\n",
      "MachineHoursCurrentMeter  has  236430 null/NAN values\n",
      "There are 1 columns with nan/null values\n"
     ]
    }
   ],
   "source": [
    "dclean.check_nan(df_train_0, cols)"
   ]
  },
  {
   "cell_type": "markdown",
   "metadata": {},
   "source": [
    "**There are a large portion of NaN values in MachineHoursCurrentMeter, because the data volume is large even we remove all rows with NaN values in this column, we can just do that. Another way of fixing it is by filling artificial values**"
   ]
  },
  {
   "cell_type": "code",
   "execution_count": 134,
   "metadata": {},
   "outputs": [
    {
     "data": {
      "image/png": "[encoded data removed]",
      "text/plain": [
       "<matplotlib.figure.Figure at 0x1a1b2216d0>"
      ]
     },
     "metadata": {},
     "output_type": "display_data"
    }
   ],
   "source": [
    "# Check column value distribution\n",
    "meter_check = df_train_0[df_train_0['MachineHoursCurrentMeter'].notnull()]\n",
    "plt.hist(meter_check[meter_check['MachineHoursCurrentMeter']<30000]['MachineHoursCurrentMeter'])\n",
    "plt.show()"
   ]
  },
  {
   "cell_type": "code",
   "execution_count": 135,
   "metadata": {},
   "outputs": [
    {
     "data": {
      "text/plain": [
       "count    125599.000000\n",
       "mean       2196.802323\n",
       "std        3649.181950\n",
       "min           0.000000\n",
       "25%           0.000000\n",
       "50%         152.000000\n",
       "75%        3025.000000\n",
       "max       29956.000000\n",
       "Name: MachineHoursCurrentMeter, dtype: float64"
      ]
     },
     "execution_count": 135,
     "metadata": {},
     "output_type": "execute_result"
    }
   ],
   "source": [
    "meter_check[meter_check['MachineHoursCurrentMeter']<30000]['MachineHoursCurrentMeter'].describe()"
   ]
  },
  {
   "cell_type": "markdown",
   "metadata": {},
   "source": [
    "**The estimated mean of column MachineHoursCurrentMeter is around 5121, therefore:**"
   ]
  },
  {
   "cell_type": "code",
   "execution_count": 136,
   "metadata": {},
   "outputs": [
    {
     "name": "stderr",
     "output_type": "stream",
     "text": [
      "/Users/ziru/anaconda/lib/python2.7/site-packages/ipykernel_launcher.py:1: SettingWithCopyWarning: \n",
      "A value is trying to be set on a copy of a slice from a DataFrame.\n",
      "Try using .loc[row_indexer,col_indexer] = value instead\n",
      "\n",
      "See the caveats in the documentation: http://pandas.pydata.org/pandas-docs/stable/indexing.html#indexing-view-versus-copy\n",
      "  \"\"\"Entry point for launching an IPython kernel.\n"
     ]
    }
   ],
   "source": [
    "df_train_0['MachineHoursCurrentMeter']=df_train_0['MachineHoursCurrentMeter'].fillna(5121)"
   ]
  },
  {
   "cell_type": "code",
   "execution_count": 137,
   "metadata": {},
   "outputs": [
    {
     "name": "stdout",
     "output_type": "stream",
     "text": [
      "Dataframe total row count:  362656\n",
      "There are 0 columns with nan/null values\n"
     ]
    }
   ],
   "source": [
    "dclean.check_nan(df_train_0, cols)"
   ]
  },
  {
   "cell_type": "markdown",
   "metadata": {},
   "source": [
    "**Now dataframe looks clean**"
   ]
  },
  {
   "cell_type": "code",
   "execution_count": 138,
   "metadata": {},
   "outputs": [
    {
     "data": {
      "text/html": [
       "<div>\n",
       "<table border=\"1\" class=\"dataframe\">\n",
       "  <thead>\n",
       "    <tr style=\"text-align: right;\">\n",
       "      <th></th>\n",
       "      <th>YearMade</th>\n",
       "      <th>MachineHoursCurrentMeter</th>\n",
       "      <th>saleyear</th>\n",
       "      <th>SalePrice</th>\n",
       "      <th>ModelID</th>\n",
       "      <th>MachineAge</th>\n",
       "    </tr>\n",
       "  </thead>\n",
       "  <tbody>\n",
       "    <tr>\n",
       "      <th>0</th>\n",
       "      <td>2004</td>\n",
       "      <td>68.0</td>\n",
       "      <td>2006</td>\n",
       "      <td>66000</td>\n",
       "      <td>3157</td>\n",
       "      <td>2</td>\n",
       "    </tr>\n",
       "    <tr>\n",
       "      <th>1</th>\n",
       "      <td>1996</td>\n",
       "      <td>4640.0</td>\n",
       "      <td>2004</td>\n",
       "      <td>57000</td>\n",
       "      <td>77</td>\n",
       "      <td>8</td>\n",
       "    </tr>\n",
       "    <tr>\n",
       "      <th>2</th>\n",
       "      <td>2001</td>\n",
       "      <td>2838.0</td>\n",
       "      <td>2004</td>\n",
       "      <td>10000</td>\n",
       "      <td>7009</td>\n",
       "      <td>3</td>\n",
       "    </tr>\n",
       "    <tr>\n",
       "      <th>3</th>\n",
       "      <td>2001</td>\n",
       "      <td>3486.0</td>\n",
       "      <td>2011</td>\n",
       "      <td>38500</td>\n",
       "      <td>332</td>\n",
       "      <td>10</td>\n",
       "    </tr>\n",
       "    <tr>\n",
       "      <th>4</th>\n",
       "      <td>2007</td>\n",
       "      <td>722.0</td>\n",
       "      <td>2009</td>\n",
       "      <td>11000</td>\n",
       "      <td>17311</td>\n",
       "      <td>2</td>\n",
       "    </tr>\n",
       "  </tbody>\n",
       "</table>\n",
       "</div>"
      ],
      "text/plain": [
       "   YearMade  MachineHoursCurrentMeter  saleyear  SalePrice  ModelID  \\\n",
       "0      2004                      68.0      2006      66000     3157   \n",
       "1      1996                    4640.0      2004      57000       77   \n",
       "2      2001                    2838.0      2004      10000     7009   \n",
       "3      2001                    3486.0      2011      38500      332   \n",
       "4      2007                     722.0      2009      11000    17311   \n",
       "\n",
       "   MachineAge  \n",
       "0           2  \n",
       "1           8  \n",
       "2           3  \n",
       "3          10  \n",
       "4           2  "
      ]
     },
     "execution_count": 138,
     "metadata": {},
     "output_type": "execute_result"
    }
   ],
   "source": [
    "df_train_0.head()"
   ]
  },
  {
   "cell_type": "markdown",
   "metadata": {},
   "source": [
    "## Simple Modeling"
   ]
  },
  {
   "cell_type": "markdown",
   "metadata": {},
   "source": [
    "**Check null mae**"
   ]
  },
  {
   "cell_type": "code",
   "execution_count": 141,
   "metadata": {
    "collapsed": true
   },
   "outputs": [],
   "source": [
    "y_mean= np.full((len(y_test), 1), y_test.mean(), dtype=np.int)"
   ]
  },
  {
   "cell_type": "code",
   "execution_count": 142,
   "metadata": {},
   "outputs": [
    {
     "data": {
      "text/plain": [
       "17903.955042795376"
      ]
     },
     "execution_count": 142,
     "metadata": {},
     "output_type": "execute_result"
    }
   ],
   "source": [
    "sklearn.metrics.mean_absolute_error(y_test, y_mean)"
   ]
  },
  {
   "cell_type": "markdown",
   "metadata": {},
   "source": [
    "**Modeling**"
   ]
  },
  {
   "cell_type": "code",
   "execution_count": 139,
   "metadata": {},
   "outputs": [
    {
     "name": "stdout",
     "output_type": "stream",
     "text": [
      "[-17035.08274818 -17574.71180456 -16407.94593995 -19924.83435165\n",
      " -18112.76640182]\n"
     ]
    }
   ],
   "source": [
    "X = df_train_0[df_train_0.drop(['SalePrice','ModelID'], axis =1).columns]\n",
    "X_scale = scale(X)\n",
    "y = df_train_0['SalePrice']\n",
    "lreg = LinearRegression()\n",
    "#lreg.fit(X_scale, y)\n",
    "#y_pred = lreg.predict(X_scale)\n",
    "print cross_val_score(lreg, X_scale, y, cv = 5, scoring = 'mean_absolute_error')"
   ]
  },
  {
   "cell_type": "markdown",
   "metadata": {},
   "source": [
    "**Plot mses for Lasso modeling**"
   ]
  },
  {
   "cell_type": "code",
   "execution_count": 134,
   "metadata": {},
   "outputs": [
    {
     "data": {
      "text/plain": [
       "[<matplotlib.lines.Line2D at 0x11bc6f5d0>]"
      ]
     },
     "execution_count": 134,
     "metadata": {},
     "output_type": "execute_result"
    },
    {
     "data": {
      "image/png": "[encoded data removed]",
      "text/plain": [
       "<matplotlib.figure.Figure at 0x117ce26d0>"
      ]
     },
     "metadata": {},
     "output_type": "display_data"
    }
   ],
   "source": [
    "alphas = np.linspace(142, 144, 100)\n",
    "mses = []\n",
    "for a in alphas:\n",
    "    clf = Lasso(alpha=a)\n",
    "    clf.fit(X_train_scale, y_train)\n",
    "    y_pred = clf.predict(X_test_scale)\n",
    "    mse = sklearn.metrics.mean_squared_error(y_test, y_pred)\n",
    "    mses.append(mse)\n",
    "\n",
    "plt.plot(alphas, mses)\n",
    "    "
   ]
  },
  {
   "cell_type": "code",
   "execution_count": 137,
   "metadata": {
    "collapsed": true
   },
   "outputs": [],
   "source": [
    "clf = Lasso(alpha=143.6)\n",
    "clf.fit(X_train_scale, y_train)\n",
    "y_pred_143 = clf.predict(X_test_scale)"
   ]
  },
  {
   "cell_type": "code",
   "execution_count": 138,
   "metadata": {},
   "outputs": [
    {
     "data": {
      "text/plain": [
       "17335.131054167232"
      ]
     },
     "execution_count": 138,
     "metadata": {},
     "output_type": "execute_result"
    }
   ],
   "source": [
    "sklearn.metrics.mean_absolute_error(y_test, y_pred_143)"
   ]
  },
  {
   "cell_type": "markdown",
   "metadata": {},
   "source": [
    "**Plot residual**"
   ]
  },
  {
   "cell_type": "code",
   "execution_count": 143,
   "metadata": {
    "collapsed": true
   },
   "outputs": [],
   "source": [
    "std_residual = (y_test-y_pred_143)/np.std((y_pred_143-y_test))"
   ]
  },
  {
   "cell_type": "code",
   "execution_count": 145,
   "metadata": {},
   "outputs": [
    {
     "data": {
      "text/plain": [
       "<matplotlib.text.Text at 0x117e8fe50>"
      ]
     },
     "execution_count": 145,
     "metadata": {},
     "output_type": "execute_result"
    },
    {
     "data": {
      "image/png": "[encoded data removed]",
      "text/plain": [
       "<matplotlib.figure.Figure at 0x1183ba5d0>"
      ]
     },
     "metadata": {},
     "output_type": "display_data"
    }
   ],
   "source": [
    "plt.scatter(y_pred_143, std_residual)\n",
    "plt.xlabel('Fitted values of y')\n",
    "plt.ylabel('Studentized Residuals')"
   ]
  },
  {
   "cell_type": "markdown",
   "metadata": {},
   "source": [
    "**Do a log transform on y, check log(y)'s distribution**"
   ]
  },
  {
   "cell_type": "code",
   "execution_count": 151,
   "metadata": {},
   "outputs": [
    {
     "data": {
      "text/plain": [
       "(array([  1208.,   5481.,  10873.,  13579.,  15732.,  16013.,  11894.,\n",
       "          8522.,   5874.,   1488.]),\n",
       " array([  8.4658999 ,   8.80566814,   9.14543638,   9.48520463,\n",
       "          9.82497287,  10.16474112,  10.50450936,  10.8442776 ,\n",
       "         11.18404585,  11.52381409,  11.86358234]),\n",
       " <a list of 10 Patch objects>)"
      ]
     },
     "execution_count": 151,
     "metadata": {},
     "output_type": "execute_result"
    },
    {
     "data": {
      "image/png": "[encoded data removed]",
      "text/plain": [
       "<matplotlib.figure.Figure at 0x11a24b150>"
      ]
     },
     "metadata": {},
     "output_type": "display_data"
    }
   ],
   "source": [
    "plt.hist(np.log(y_test))"
   ]
  },
  {
   "cell_type": "markdown",
   "metadata": {},
   "source": [
    "**After log transform, log(y) is more normally distributed**"
   ]
  },
  {
   "cell_type": "markdown",
   "metadata": {},
   "source": [
    "**Modeling using log(y) as the target**"
   ]
  },
  {
   "cell_type": "code",
   "execution_count": 90,
   "metadata": {
    "collapsed": true
   },
   "outputs": [],
   "source": [
    "clf = Lasso(alpha=0.0000001)\n",
    "y_train_log = y_train.apply(np.log)\n",
    "clf.fit(X_train_scale, y_train_log)\n",
    "y_pred_143 = clf.predict(X_test_scale)"
   ]
  },
  {
   "cell_type": "code",
   "execution_count": 173,
   "metadata": {
    "collapsed": true
   },
   "outputs": [],
   "source": [
    "std_residual = (np.log(y_test)-y_pred_143)/np.std((y_pred_143-np.log(y_test)))"
   ]
  },
  {
   "cell_type": "code",
   "execution_count": 174,
   "metadata": {},
   "outputs": [
    {
     "data": {
      "text/plain": [
       "<matplotlib.text.Text at 0x117f95b90>"
      ]
     },
     "execution_count": 174,
     "metadata": {},
     "output_type": "execute_result"
    },
    {
     "data": {
      "image/png": "[encoded data removed]",
      "text/plain": [
       "<matplotlib.figure.Figure at 0x117f0d890>"
      ]
     },
     "metadata": {},
     "output_type": "display_data"
    }
   ],
   "source": [
    "plt.scatter(y_pred_143, std_residual)\n",
    "plt.xlabel('Fitted values of y')\n",
    "plt.ylabel('Studentized Residuals')"
   ]
  },
  {
   "cell_type": "code",
   "execution_count": 92,
   "metadata": {
    "collapsed": true
   },
   "outputs": [],
   "source": [
    "y_pred_real = np.e**(y_pred_143)"
   ]
  },
  {
   "cell_type": "code",
   "execution_count": 93,
   "metadata": {},
   "outputs": [
    {
     "data": {
      "text/plain": [
       "array([ 28634.80997339,  24926.95872333,  28634.80997339, ...,\n",
       "        29262.75368397,  27980.58586216,  27980.58586216])"
      ]
     },
     "execution_count": 93,
     "metadata": {},
     "output_type": "execute_result"
    }
   ],
   "source": [
    "y_pred_real"
   ]
  },
  {
   "cell_type": "code",
   "execution_count": 94,
   "metadata": {},
   "outputs": [
    {
     "data": {
      "text/plain": [
       "16345.190284368351"
      ]
     },
     "execution_count": 94,
     "metadata": {},
     "output_type": "execute_result"
    }
   ],
   "source": [
    "sklearn.metrics.mean_absolute_error(y_test, y_pred_real)"
   ]
  },
  {
   "cell_type": "markdown",
   "metadata": {},
   "source": [
    "## Explore new feature"
   ]
  },
  {
   "cell_type": "markdown",
   "metadata": {},
   "source": [
    "**Because each modelID matches with an original price, a mean salesprice for each model could potential be a useful feature**"
   ]
  },
  {
   "cell_type": "code",
   "execution_count": 140,
   "metadata": {},
   "outputs": [
    {
     "name": "stderr",
     "output_type": "stream",
     "text": [
      "/Users/ziru/anaconda/lib/python2.7/site-packages/ipykernel_launcher.py:2: FutureWarning: sort(columns=....) is deprecated, use sort_values(by=.....)\n",
      "  \n",
      "/Users/ziru/anaconda/lib/python2.7/site-packages/ipykernel_launcher.py:3: FutureWarning: sort(columns=....) is deprecated, use sort_values(by=.....)\n",
      "  This is separate from the ipykernel package so we can avoid doing imports until\n"
     ]
    }
   ],
   "source": [
    "df_new_tracs = df_train_0[df_train_0['saleyear']>2000]\n",
    "d_price = df_new_tracs.groupby('ModelID')['SalePrice'].mean().to_frame().reset_index().sort('SalePrice',ascending=False)\n",
    "d_count = df_new_tracs.groupby('ModelID').size().to_frame().reset_index().rename(columns={0:'count'}).sort('count',ascending=False)"
   ]
  },
  {
   "cell_type": "code",
   "execution_count": 141,
   "metadata": {
    "collapsed": true
   },
   "outputs": [],
   "source": [
    "#d_price = df_train_numeric.groupby('ModelID')['SalePrice'].mean().to_frame().reset_index()"
   ]
  },
  {
   "cell_type": "code",
   "execution_count": 142,
   "metadata": {
    "collapsed": true
   },
   "outputs": [],
   "source": [
    "d_price.rename(columns={'SalePrice':'model_mean_price'}, inplace=True)"
   ]
  },
  {
   "cell_type": "code",
   "execution_count": 143,
   "metadata": {
    "collapsed": true
   },
   "outputs": [],
   "source": [
    "df_train_1 = df_train_0.join(d_price.set_index('ModelID'), on='ModelID', lsuffix='_orig', rsuffix='_meanprice')"
   ]
  },
  {
   "cell_type": "code",
   "execution_count": 144,
   "metadata": {},
   "outputs": [],
   "source": [
    "df_train_1.dropna(how='any', inplace=True)"
   ]
  },
  {
   "cell_type": "code",
   "execution_count": 145,
   "metadata": {},
   "outputs": [
    {
     "name": "stdout",
     "output_type": "stream",
     "text": [
      "Dataframe total row count:  360679\n",
      "There are 0 columns with nan/null values\n"
     ]
    }
   ],
   "source": [
    "dclean.check_nan(df_train_2, df_train_2.columns)#.head()"
   ]
  },
  {
   "cell_type": "markdown",
   "metadata": {},
   "source": [
    "**Modeling using new feature model_mean_price**"
   ]
  },
  {
   "cell_type": "code",
   "execution_count": 120,
   "metadata": {},
   "outputs": [
    {
     "name": "stdout",
     "output_type": "stream",
     "text": [
      "[ -7805.17321185 -10010.67216754  -7531.57815271  -8272.00858704\n",
      "  -9019.1683665 ]\n"
     ]
    }
   ],
   "source": [
    "X = df_train_2[['MachineHoursCurrentMeter','MachineAge','model_mean_price']]\n",
    "#X = df_new_new[['MachineAge','YearMade','model_mean_price']]\n",
    "X_scale = scale(X)\n",
    "y = df_train_2['SalePrice']\n",
    "lreg = LinearRegression()\n",
    "#lreg.fit(X_scale, y)\n",
    "#y_pred = lreg.predict(X_scale)\n",
    "print cross_val_score(lreg, X_scale, y, cv = 5, scoring = 'mean_absolute_error')"
   ]
  },
  {
   "cell_type": "markdown",
   "metadata": {},
   "source": [
    "**mae decreased significantly**"
   ]
  }
 ],
 "metadata": {
  "kernelspec": {
   "display_name": "Python 2",
   "language": "python",
   "name": "python2"
  },
  "language_info": {
   "codemirror_mode": {
    "name": "ipython",
    "version": 2
   },
   "file_extension": ".py",
   "mimetype": "text/x-python",
   "name": "python",
   "nbconvert_exporter": "python",
   "pygments_lexer": "ipython2",
   "version": "2.7.13"
  }
 },
 "nbformat": 4,
 "nbformat_minor": 2
}
